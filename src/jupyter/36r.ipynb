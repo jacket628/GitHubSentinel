{
 "cells": [
  {
   "cell_type": "markdown",
   "id": "0bf0441a-0395-486f-9ea0-01ae2b714a93",
   "metadata": {},
   "source": [
    "# 爬虫代码"
   ]
  },
  {
   "cell_type": "code",
   "execution_count": 1,
   "id": "ed4778cb-a985-4fcd-a8cc-33edd20a038f",
   "metadata": {
    "jupyter": {
     "is_executing": true
    }
   },
   "outputs": [
    {
     "name": "stdout",
     "output_type": "stream",
     "text": [
      "文件已导出为 36kr_20240908.md\n"
     ]
    }
   ],
   "source": [
    "import requests\n",
    "from bs4 import BeautifulSoup\n",
    "from datetime import datetime, timedelta\n",
    "\n",
    "# 获取今天的日期并格式化\n",
    "today_date = datetime.now().strftime(\"%Y%m%d\")\n",
    "two_days_ago = datetime.now() - timedelta(days=2)\n",
    "\n",
    "# 目标网址\n",
    "url = 'https://36kr.com/information/AI/'\n",
    "\n",
    "# 发送HTTP请求\n",
    "response = requests.get(url)\n",
    "html_content = response.content\n",
    "\n",
    "# 使用BeautifulSoup解析网页内容\n",
    "soup = BeautifulSoup(html_content, 'html.parser')\n",
    "\n",
    "# 找到新闻列表部分，使用 'kr-flow-article-item' 作为选择器\n",
    "articles = soup.find_all('div', class_='kr-flow-article-item')\n",
    "\n",
    "# 创建Markdown格式的内容\n",
    "markdown_content = \"# 36kr AI 新闻列表\\n\\n\"\n",
    "\n",
    "for article in articles:\n",
    "    # 获取新闻标题\n",
    "    title_tag = article.find('a', class_='article-item-title')\n",
    "    title = title_tag.text.strip() if title_tag else \"无标题\"\n",
    "    \n",
    "    # 获取摘要\n",
    "    summary_tag = article.find('a', class_='article-item-description')\n",
    "    summary = summary_tag.text.strip() if summary_tag else \"无摘要\"\n",
    "    \n",
    "    # 获取发布来源\n",
    "    source_tag = article.find('a', class_='kr-flow-bar-author')\n",
    "    source = source_tag.text.strip() if source_tag else \"未知来源\"\n",
    "    \n",
    "    # 获取发布时间\n",
    "    publish_time_tag = article.find('span', class_='kr-flow-bar-time')\n",
    "    publish_time = publish_time_tag.text.strip() if publish_time_tag else \"未知时间\"\n",
    "    \n",
    "    # 获取详情页链接\n",
    "    link_tag = article.find('a', class_='article-item-title')\n",
    "    link = f\"https://36kr.com{link_tag['href']}\" if link_tag else \"无链接\"\n",
    "    \n",
    "    # 解析发布时间\n",
    "    # if \"小时前\" in publish_time:\n",
    "    #     # 如果是 X小时前的格式\n",
    "    #     hours_ago = int(publish_time.replace(\"小时前\", \"\").strip())\n",
    "    #     publish_time_datetime = datetime.now() - timedelta(hours=hours_ago)\n",
    "    # elif \"天前\" in publish_time:\n",
    "    #     # 如果是 X天前的格式\n",
    "    #     days_ago = int(publish_time.replace(\"天前\", \"\").strip())\n",
    "    #     publish_time_datetime = datetime.now() - timedelta(days=days_ago)\n",
    "    # else:\n",
    "    #     # 如果是其他日期格式，如 '2024-09-06'\n",
    "    #     try:\n",
    "    #         publish_time_datetime = datetime.strptime(publish_time, '%Y-%m-%d')\n",
    "    #     except ValueError:\n",
    "    #         publish_time_datetime = datetime.now()  # 默认当前时间\n",
    "\n",
    "    # # 检查是否超过2天，如果超过则跳过\n",
    "    # if publish_time_datetime < two_days_ago:\n",
    "    #     continue\n",
    "    \n",
    "    # 组装Markdown内容\n",
    "    markdown_content += f\"## [{title}]({link})\\n\\n\"\n",
    "    markdown_content += f\"- **摘要**: {summary}\\n\"\n",
    "    markdown_content += f\"- **来源**: {source}\\n\"\n",
    "    markdown_content += f\"- **发布时间**: {publish_time}\\n\"\n",
    "    markdown_content += f\"- **详情页**: [点击查看]({link})\\n\\n\"\n",
    "    \n",
    "# 文件名\n",
    "file_name = f\"36kr_{today_date}.md\"\n",
    "\n",
    "# 导出Markdown文件\n",
    "with open(file_name, 'w', encoding='utf-8') as file:\n",
    "    file.write(markdown_content)\n",
    "\n",
    "print(f\"文件已导出为 {file_name}\")\n"
   ]
  },
  {
   "cell_type": "code",
   "execution_count": null,
   "id": "429d74af-07e8-4a1a-b153-1f04fb7806f2",
   "metadata": {},
   "outputs": [],
   "source": []
  }
 ],
 "metadata": {
  "kernelspec": {
   "display_name": "Python 3 (ipykernel)",
   "language": "python",
   "name": "python3"
  },
  "language_info": {
   "codemirror_mode": {
    "name": "ipython",
    "version": 3
   },
   "file_extension": ".py",
   "mimetype": "text/x-python",
   "name": "python",
   "nbconvert_exporter": "python",
   "pygments_lexer": "ipython3",
   "version": "3.10.14"
  }
 },
 "nbformat": 4,
 "nbformat_minor": 5
}
